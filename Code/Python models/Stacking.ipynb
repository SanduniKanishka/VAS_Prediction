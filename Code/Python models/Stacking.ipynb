{
 "cells": [
  {
   "cell_type": "code",
   "execution_count": 1,
   "id": "3a2c99ff",
   "metadata": {},
   "outputs": [],
   "source": [
    "import pandas as pd\n",
    "from mlxtend.classifier import StackingClassifier\n",
    "from sklearn.model_selection import train_test_split\n",
    "from sklearn.tree import DecisionTreeClassifier\n",
    "from sklearn.linear_model import LogisticRegression\n",
    "from sklearn.neighbors import KNeighborsClassifier\n",
    "from sklearn.naive_bayes import GaussianNB\n",
    "from sklearn.metrics import confusion_matrix\n",
    "from sklearn.metrics import accuracy_score\n"
   ]
  },
  {
   "cell_type": "code",
   "execution_count": 2,
   "id": "1f52ae1d",
   "metadata": {},
   "outputs": [],
   "source": [
    "import numpy as np"
   ]
  },
  {
   "cell_type": "code",
   "execution_count": 3,
   "id": "e8ddf0ca",
   "metadata": {},
   "outputs": [],
   "source": [
    "# dataset = pd.read_csv('msc_data_cleaned.csv')\n",
    "dataset = pd.read_csv('msc_data_cleaned_new1.csv')"
   ]
  },
  {
   "cell_type": "code",
   "execution_count": 4,
   "id": "fa078f6e",
   "metadata": {},
   "outputs": [],
   "source": [
    "def clean_age(x):\n",
    "    if '51-60' in x or '60+' in x:\n",
    "        return '51-60'\n",
    "    if '41-45' in x or '46-50' in x:\n",
    "        return '41-50'\n",
    "    if '31-35' in x or '36-40' in x:\n",
    "        return '31-40'\n",
    "    if '21-25' in x or '26-30' in x:\n",
    "        return '21-30'\n",
    "    return 'Under 20'\n",
    "\n",
    "dataset['age_cat'] = dataset['age_cat'].apply(clean_age)"
   ]
  },
  {
   "cell_type": "code",
   "execution_count": 5,
   "id": "d453c136",
   "metadata": {},
   "outputs": [],
   "source": [
    "dataset = dataset.dropna(subset=['device_type'])"
   ]
  },
  {
   "cell_type": "code",
   "execution_count": 6,
   "id": "2e9b7893",
   "metadata": {},
   "outputs": [],
   "source": [
    "def clean_deviceType(x):\n",
    "    if 'BASIC' in x:\n",
    "        return 'BASIC'\n",
    "    if 'SMART' in x:\n",
    "        return 'SMART'\n",
    "    if 'FEATURE' in x:\n",
    "        return 'FEATURE'\n",
    "\n",
    "dataset['device_type'] = dataset['device_type'].apply(clean_deviceType)"
   ]
  },
  {
   "cell_type": "code",
   "execution_count": 7,
   "id": "aa46cd25",
   "metadata": {},
   "outputs": [],
   "source": [
    "sin= 2078.0\n",
    "eng = 2002.0\n",
    "# tam = 2079.0\n",
    "def clean_language(x):\n",
    "    if sin in [x]:\n",
    "        return 'Sinhala'\n",
    "    if eng in [x]:\n",
    "        return 'English'\n",
    "    return 'Tamil'\n",
    "\n",
    "dataset['language_id'] = dataset['language_id'].apply(clean_language)"
   ]
  },
  {
   "cell_type": "code",
   "execution_count": 8,
   "id": "5685ce6d",
   "metadata": {},
   "outputs": [],
   "source": [
    "def clean_connectionAge(x):\n",
    "    if 'more than 5 years' in x:\n",
    "        return 'more than 5 years'\n",
    "    if '3-5 years' in x:\n",
    "        return '3-5 years'\n",
    "    if '2-3 years' in x or '1-2 years' in x:\n",
    "        return '1-3 years'\n",
    "    return 'less than 1'\n",
    "\n",
    "dataset['con_age'] = dataset['con_age'].apply(clean_connectionAge)"
   ]
  },
  {
   "cell_type": "code",
   "execution_count": 9,
   "id": "6fc0c584",
   "metadata": {},
   "outputs": [],
   "source": [
    "from sklearn.preprocessing import LabelEncoder\n",
    "# labelEncoder = LabelEncoder()\n",
    "dataTransform = dataset.copy()"
   ]
  },
  {
   "cell_type": "code",
   "execution_count": 10,
   "id": "21d21ff4",
   "metadata": {},
   "outputs": [
    {
     "data": {
      "text/plain": [
       "array([2, 1, 0])"
      ]
     },
     "execution_count": 10,
     "metadata": {},
     "output_type": "execute_result"
    }
   ],
   "source": [
    "le_language = LabelEncoder()\n",
    "dataTransform['language_id'] = le_language.fit_transform(dataset['language_id'])\n",
    "le_age = LabelEncoder()\n",
    "dataTransform['age_cat'] = le_age.fit_transform(dataset['age_cat'])\n",
    "le_conAge = LabelEncoder()\n",
    "dataTransform['con_age'] = le_conAge.fit_transform(dataset['con_age'])\n",
    "le_device = LabelEncoder()\n",
    "dataTransform['device_type'] = le_device.fit_transform(dataset['device_type'])\n",
    "le_package = LabelEncoder()\n",
    "dataTransform['package'] = le_package.fit_transform(dataset['package'])\n",
    "dataTransform[\"package\"].unique()"
   ]
  },
  {
   "cell_type": "code",
   "execution_count": 11,
   "id": "cd0e48c7",
   "metadata": {},
   "outputs": [
    {
     "data": {
      "text/plain": [
       "(21781, 10)"
      ]
     },
     "execution_count": 11,
     "metadata": {},
     "output_type": "execute_result"
    }
   ],
   "source": [
    "dataTransform.shape"
   ]
  },
  {
   "cell_type": "code",
   "execution_count": 12,
   "id": "20127694",
   "metadata": {},
   "outputs": [],
   "source": [
    "# dataTransform.shape"
   ]
  },
  {
   "cell_type": "code",
   "execution_count": 13,
   "id": "c9dc64b8",
   "metadata": {},
   "outputs": [
    {
     "data": {
      "text/html": [
       "<div>\n",
       "<style scoped>\n",
       "    .dataframe tbody tr th:only-of-type {\n",
       "        vertical-align: middle;\n",
       "    }\n",
       "\n",
       "    .dataframe tbody tr th {\n",
       "        vertical-align: top;\n",
       "    }\n",
       "\n",
       "    .dataframe thead th {\n",
       "        text-align: right;\n",
       "    }\n",
       "</style>\n",
       "<table border=\"1\" class=\"dataframe\">\n",
       "  <thead>\n",
       "    <tr style=\"text-align: right;\">\n",
       "      <th></th>\n",
       "      <th>gender</th>\n",
       "      <th>age_cat</th>\n",
       "      <th>con_age</th>\n",
       "      <th>language_id</th>\n",
       "      <th>total_voice_usage_min</th>\n",
       "      <th>total_data_usage_mb</th>\n",
       "      <th>device_type</th>\n",
       "      <th>total_revenue</th>\n",
       "      <th>vas_revenue</th>\n",
       "    </tr>\n",
       "  </thead>\n",
       "  <tbody>\n",
       "    <tr>\n",
       "      <th>0</th>\n",
       "      <td>0.0</td>\n",
       "      <td>0.75</td>\n",
       "      <td>0.666667</td>\n",
       "      <td>0.0</td>\n",
       "      <td>0.008460</td>\n",
       "      <td>0.098454</td>\n",
       "      <td>1.0</td>\n",
       "      <td>0.019094</td>\n",
       "      <td>0.003322</td>\n",
       "    </tr>\n",
       "    <tr>\n",
       "      <th>2</th>\n",
       "      <td>0.0</td>\n",
       "      <td>0.25</td>\n",
       "      <td>0.000000</td>\n",
       "      <td>0.5</td>\n",
       "      <td>0.015958</td>\n",
       "      <td>0.059166</td>\n",
       "      <td>1.0</td>\n",
       "      <td>0.019646</td>\n",
       "      <td>0.002089</td>\n",
       "    </tr>\n",
       "    <tr>\n",
       "      <th>3</th>\n",
       "      <td>1.0</td>\n",
       "      <td>0.50</td>\n",
       "      <td>0.666667</td>\n",
       "      <td>0.0</td>\n",
       "      <td>0.014263</td>\n",
       "      <td>0.000002</td>\n",
       "      <td>1.0</td>\n",
       "      <td>0.003819</td>\n",
       "      <td>0.002250</td>\n",
       "    </tr>\n",
       "    <tr>\n",
       "      <th>4</th>\n",
       "      <td>1.0</td>\n",
       "      <td>0.50</td>\n",
       "      <td>0.000000</td>\n",
       "      <td>0.0</td>\n",
       "      <td>0.001694</td>\n",
       "      <td>0.165021</td>\n",
       "      <td>1.0</td>\n",
       "      <td>0.026097</td>\n",
       "      <td>0.002780</td>\n",
       "    </tr>\n",
       "    <tr>\n",
       "      <th>6</th>\n",
       "      <td>0.0</td>\n",
       "      <td>0.75</td>\n",
       "      <td>0.666667</td>\n",
       "      <td>0.0</td>\n",
       "      <td>0.091588</td>\n",
       "      <td>0.000000</td>\n",
       "      <td>0.5</td>\n",
       "      <td>0.017776</td>\n",
       "      <td>0.001853</td>\n",
       "    </tr>\n",
       "  </tbody>\n",
       "</table>\n",
       "</div>"
      ],
      "text/plain": [
       "   gender  age_cat   con_age  language_id  total_voice_usage_min  \\\n",
       "0     0.0     0.75  0.666667          0.0               0.008460   \n",
       "2     0.0     0.25  0.000000          0.5               0.015958   \n",
       "3     1.0     0.50  0.666667          0.0               0.014263   \n",
       "4     1.0     0.50  0.000000          0.0               0.001694   \n",
       "6     0.0     0.75  0.666667          0.0               0.091588   \n",
       "\n",
       "   total_data_usage_mb  device_type  total_revenue  vas_revenue  \n",
       "0             0.098454          1.0       0.019094     0.003322  \n",
       "2             0.059166          1.0       0.019646     0.002089  \n",
       "3             0.000002          1.0       0.003819     0.002250  \n",
       "4             0.165021          1.0       0.026097     0.002780  \n",
       "6             0.000000          0.5       0.017776     0.001853  "
      ]
     },
     "execution_count": 13,
     "metadata": {},
     "output_type": "execute_result"
    }
   ],
   "source": [
    "dtf = dataTransform['package']\n",
    "# Min-Max Normalization\n",
    "df = dataTransform.drop('package', axis=1)\n",
    "df_norm = (df-df.min())/(df.max()-df.min())\n",
    "\n",
    "df_norm.head()"
   ]
  },
  {
   "cell_type": "code",
   "execution_count": 14,
   "id": "dd3966b3",
   "metadata": {},
   "outputs": [],
   "source": [
    "def outliers(df,feature):\n",
    "    Q1 = df[feature].quantile(0.05)\n",
    "    Q3 = df[feature].quantile(0.95)\n",
    "    IQR = Q3 - Q1\n",
    "    \n",
    "    lowerBound = Q1 - 1.5*IQR\n",
    "    uperBound  = Q3 + 1.5*IQR\n",
    "    \n",
    "    ls = df.index[(df[feature]<lowerBound) | (df[feature]>uperBound)]\n",
    "    return ls"
   ]
  },
  {
   "cell_type": "code",
   "execution_count": 15,
   "id": "919e7169",
   "metadata": {},
   "outputs": [],
   "source": [
    "index_list = []\n",
    "for f in ['total_voice_usage_min','total_data_usage_mb','total_revenue']:\n",
    "    index_list.extend(outliers(df_norm,f))"
   ]
  },
  {
   "cell_type": "code",
   "execution_count": 16,
   "id": "0cd86a77",
   "metadata": {},
   "outputs": [],
   "source": [
    "def remove(df,ls):\n",
    "    ls = sorted(set(ls))\n",
    "    df =df.drop(ls)\n",
    "    return df"
   ]
  },
  {
   "cell_type": "code",
   "execution_count": 17,
   "id": "29f4ae57",
   "metadata": {},
   "outputs": [],
   "source": [
    "cleand_df = remove(df_norm,index_list)"
   ]
  },
  {
   "cell_type": "code",
   "execution_count": 18,
   "id": "8a7d6131",
   "metadata": {},
   "outputs": [
    {
     "data": {
      "text/plain": [
       "(21584, 9)"
      ]
     },
     "execution_count": 18,
     "metadata": {},
     "output_type": "execute_result"
    }
   ],
   "source": [
    "cleand_df.shape"
   ]
  },
  {
   "cell_type": "code",
   "execution_count": 19,
   "id": "04882381",
   "metadata": {},
   "outputs": [
    {
     "data": {
      "text/html": [
       "<div>\n",
       "<style scoped>\n",
       "    .dataframe tbody tr th:only-of-type {\n",
       "        vertical-align: middle;\n",
       "    }\n",
       "\n",
       "    .dataframe tbody tr th {\n",
       "        vertical-align: top;\n",
       "    }\n",
       "\n",
       "    .dataframe thead th {\n",
       "        text-align: right;\n",
       "    }\n",
       "</style>\n",
       "<table border=\"1\" class=\"dataframe\">\n",
       "  <thead>\n",
       "    <tr style=\"text-align: right;\">\n",
       "      <th></th>\n",
       "      <th>gender</th>\n",
       "      <th>age_cat</th>\n",
       "      <th>con_age</th>\n",
       "      <th>language_id</th>\n",
       "      <th>total_voice_usage_min</th>\n",
       "      <th>total_data_usage_mb</th>\n",
       "      <th>device_type</th>\n",
       "      <th>total_revenue</th>\n",
       "      <th>vas_revenue</th>\n",
       "      <th>package</th>\n",
       "    </tr>\n",
       "  </thead>\n",
       "  <tbody>\n",
       "    <tr>\n",
       "      <th>0</th>\n",
       "      <td>0.0</td>\n",
       "      <td>0.75</td>\n",
       "      <td>0.666667</td>\n",
       "      <td>0.0</td>\n",
       "      <td>0.008460</td>\n",
       "      <td>9.845378e-02</td>\n",
       "      <td>1.0</td>\n",
       "      <td>0.019094</td>\n",
       "      <td>0.003322</td>\n",
       "      <td>2</td>\n",
       "    </tr>\n",
       "    <tr>\n",
       "      <th>2</th>\n",
       "      <td>0.0</td>\n",
       "      <td>0.25</td>\n",
       "      <td>0.000000</td>\n",
       "      <td>0.5</td>\n",
       "      <td>0.015958</td>\n",
       "      <td>5.916630e-02</td>\n",
       "      <td>1.0</td>\n",
       "      <td>0.019646</td>\n",
       "      <td>0.002089</td>\n",
       "      <td>1</td>\n",
       "    </tr>\n",
       "    <tr>\n",
       "      <th>3</th>\n",
       "      <td>1.0</td>\n",
       "      <td>0.50</td>\n",
       "      <td>0.666667</td>\n",
       "      <td>0.0</td>\n",
       "      <td>0.014263</td>\n",
       "      <td>1.697807e-06</td>\n",
       "      <td>1.0</td>\n",
       "      <td>0.003819</td>\n",
       "      <td>0.002250</td>\n",
       "      <td>2</td>\n",
       "    </tr>\n",
       "    <tr>\n",
       "      <th>4</th>\n",
       "      <td>1.0</td>\n",
       "      <td>0.50</td>\n",
       "      <td>0.000000</td>\n",
       "      <td>0.0</td>\n",
       "      <td>0.001694</td>\n",
       "      <td>1.650209e-01</td>\n",
       "      <td>1.0</td>\n",
       "      <td>0.026097</td>\n",
       "      <td>0.002780</td>\n",
       "      <td>1</td>\n",
       "    </tr>\n",
       "    <tr>\n",
       "      <th>6</th>\n",
       "      <td>0.0</td>\n",
       "      <td>0.75</td>\n",
       "      <td>0.666667</td>\n",
       "      <td>0.0</td>\n",
       "      <td>0.091588</td>\n",
       "      <td>0.000000e+00</td>\n",
       "      <td>0.5</td>\n",
       "      <td>0.017776</td>\n",
       "      <td>0.001853</td>\n",
       "      <td>1</td>\n",
       "    </tr>\n",
       "    <tr>\n",
       "      <th>...</th>\n",
       "      <td>...</td>\n",
       "      <td>...</td>\n",
       "      <td>...</td>\n",
       "      <td>...</td>\n",
       "      <td>...</td>\n",
       "      <td>...</td>\n",
       "      <td>...</td>\n",
       "      <td>...</td>\n",
       "      <td>...</td>\n",
       "      <td>...</td>\n",
       "    </tr>\n",
       "    <tr>\n",
       "      <th>26274</th>\n",
       "      <td>0.0</td>\n",
       "      <td>0.75</td>\n",
       "      <td>1.000000</td>\n",
       "      <td>0.0</td>\n",
       "      <td>0.035557</td>\n",
       "      <td>2.091892e-02</td>\n",
       "      <td>1.0</td>\n",
       "      <td>0.014661</td>\n",
       "      <td>0.002627</td>\n",
       "      <td>0</td>\n",
       "    </tr>\n",
       "    <tr>\n",
       "      <th>26276</th>\n",
       "      <td>1.0</td>\n",
       "      <td>0.75</td>\n",
       "      <td>1.000000</td>\n",
       "      <td>0.5</td>\n",
       "      <td>0.024807</td>\n",
       "      <td>0.000000e+00</td>\n",
       "      <td>0.5</td>\n",
       "      <td>0.005106</td>\n",
       "      <td>0.002307</td>\n",
       "      <td>1</td>\n",
       "    </tr>\n",
       "    <tr>\n",
       "      <th>26277</th>\n",
       "      <td>1.0</td>\n",
       "      <td>0.75</td>\n",
       "      <td>1.000000</td>\n",
       "      <td>0.5</td>\n",
       "      <td>0.068350</td>\n",
       "      <td>0.000000e+00</td>\n",
       "      <td>0.0</td>\n",
       "      <td>0.012717</td>\n",
       "      <td>0.001670</td>\n",
       "      <td>1</td>\n",
       "    </tr>\n",
       "    <tr>\n",
       "      <th>26278</th>\n",
       "      <td>0.0</td>\n",
       "      <td>0.75</td>\n",
       "      <td>0.333333</td>\n",
       "      <td>0.0</td>\n",
       "      <td>0.052699</td>\n",
       "      <td>3.995747e-03</td>\n",
       "      <td>1.0</td>\n",
       "      <td>0.009455</td>\n",
       "      <td>0.002639</td>\n",
       "      <td>1</td>\n",
       "    </tr>\n",
       "    <tr>\n",
       "      <th>26279</th>\n",
       "      <td>0.0</td>\n",
       "      <td>0.00</td>\n",
       "      <td>0.000000</td>\n",
       "      <td>0.0</td>\n",
       "      <td>0.042663</td>\n",
       "      <td>8.893273e-07</td>\n",
       "      <td>0.5</td>\n",
       "      <td>0.005206</td>\n",
       "      <td>0.000890</td>\n",
       "      <td>1</td>\n",
       "    </tr>\n",
       "  </tbody>\n",
       "</table>\n",
       "<p>21584 rows × 10 columns</p>\n",
       "</div>"
      ],
      "text/plain": [
       "       gender  age_cat   con_age  language_id  total_voice_usage_min  \\\n",
       "0         0.0     0.75  0.666667          0.0               0.008460   \n",
       "2         0.0     0.25  0.000000          0.5               0.015958   \n",
       "3         1.0     0.50  0.666667          0.0               0.014263   \n",
       "4         1.0     0.50  0.000000          0.0               0.001694   \n",
       "6         0.0     0.75  0.666667          0.0               0.091588   \n",
       "...       ...      ...       ...          ...                    ...   \n",
       "26274     0.0     0.75  1.000000          0.0               0.035557   \n",
       "26276     1.0     0.75  1.000000          0.5               0.024807   \n",
       "26277     1.0     0.75  1.000000          0.5               0.068350   \n",
       "26278     0.0     0.75  0.333333          0.0               0.052699   \n",
       "26279     0.0     0.00  0.000000          0.0               0.042663   \n",
       "\n",
       "       total_data_usage_mb  device_type  total_revenue  vas_revenue  package  \n",
       "0             9.845378e-02          1.0       0.019094     0.003322        2  \n",
       "2             5.916630e-02          1.0       0.019646     0.002089        1  \n",
       "3             1.697807e-06          1.0       0.003819     0.002250        2  \n",
       "4             1.650209e-01          1.0       0.026097     0.002780        1  \n",
       "6             0.000000e+00          0.5       0.017776     0.001853        1  \n",
       "...                    ...          ...            ...          ...      ...  \n",
       "26274         2.091892e-02          1.0       0.014661     0.002627        0  \n",
       "26276         0.000000e+00          0.5       0.005106     0.002307        1  \n",
       "26277         0.000000e+00          0.0       0.012717     0.001670        1  \n",
       "26278         3.995747e-03          1.0       0.009455     0.002639        1  \n",
       "26279         8.893273e-07          0.5       0.005206     0.000890        1  \n",
       "\n",
       "[21584 rows x 10 columns]"
      ]
     },
     "metadata": {},
     "output_type": "display_data"
    }
   ],
   "source": [
    "result = pd.concat([cleand_df, dtf], axis=1, join='inner')\n",
    "display(result)"
   ]
  },
  {
   "cell_type": "code",
   "execution_count": 20,
   "id": "38ad7c0f",
   "metadata": {},
   "outputs": [],
   "source": [
    "y = np.array(result.iloc[:,9:])\n",
    "X = np.array(result.iloc[:,0:9])\n",
    "\n",
    "from sklearn.model_selection import train_test_split\n",
    "X_train, X_test, y_train, y_test = train_test_split(X, y, test_size = 0.3)"
   ]
  },
  {
   "cell_type": "code",
   "execution_count": 21,
   "id": "73114b86",
   "metadata": {},
   "outputs": [],
   "source": [
    "from imblearn.over_sampling import SMOTE\n",
    "smote=SMOTE()\n",
    "X, y=smote.fit_resample(X_train, y_train)"
   ]
  },
  {
   "cell_type": "code",
   "execution_count": 22,
   "id": "ab98742b",
   "metadata": {},
   "outputs": [],
   "source": [
    "KNN = KNeighborsClassifier()    # initialising KNN\n",
    "NB = GaussianNB()               # initialising NB Classifier\n",
    "CART = DecisionTreeClassifier() # initialising CART"
   ]
  },
  {
   "cell_type": "code",
   "execution_count": 23,
   "id": "02376450",
   "metadata": {},
   "outputs": [
    {
     "name": "stderr",
     "output_type": "stream",
     "text": [
      "C:\\Users\\sandunic\\Anaconda3\\lib\\site-packages\\sklearn\\neighbors\\_classification.py:198: DataConversionWarning: A column-vector y was passed when a 1d array was expected. Please change the shape of y to (n_samples,), for example using ravel().\n",
      "  return self._fit(X, y)\n",
      "C:\\Users\\sandunic\\Anaconda3\\lib\\site-packages\\sklearn\\utils\\validation.py:993: DataConversionWarning: A column-vector y was passed when a 1d array was expected. Please change the shape of y to (n_samples, ), for example using ravel().\n",
      "  y = column_or_1d(y, warn=True)\n"
     ]
    }
   ],
   "source": [
    "model_KNN = KNN.fit(X_train, y_train)   \n",
    "pred_knn = model_KNN.predict(X_test)   \n",
    "\n",
    "model_NaiveBayes = NB.fit(X_train, y_train)\n",
    "pred_nb = model_NaiveBayes.predict(X_test)\n",
    "\n",
    "model_CART = CART.fit(X_train, y_train)\n",
    "pred_cart = model_CART.predict(X_test)"
   ]
  },
  {
   "cell_type": "code",
   "execution_count": 24,
   "id": "3074f90f",
   "metadata": {},
   "outputs": [
    {
     "name": "stdout",
     "output_type": "stream",
     "text": [
      "accuracy score of KNeighbors Classifier is: 72.68375540457073\n",
      "Accuracy of Naive Bayes Classifier: 74.6911673872761\n",
      "Accuracy of CART Classifier: 73.76466954910438\n"
     ]
    }
   ],
   "source": [
    "accuracy_knn = accuracy_score(y_test, pred_knn)  # evaluating accuracy score\n",
    "print('accuracy score of KNeighbors Classifier is:', accuracy_knn * 100)\n",
    "\n",
    "accuracy_nb = accuracy_score(y_test, pred_nb)\n",
    "print('Accuracy of Naive Bayes Classifier:', accuracy_nb * 100)\n",
    "\n",
    "accuracy_cart = accuracy_score(y_test, pred_cart)\n",
    "print('Accuracy of CART Classifier:', accuracy_cart * 100)"
   ]
  },
  {
   "cell_type": "code",
   "execution_count": 25,
   "id": "c33eef4f",
   "metadata": {},
   "outputs": [],
   "source": [
    "lr = LogisticRegression()  \n",
    "clf_stack = StackingClassifier(classifiers =[KNN, NB, CART], meta_classifier = lr, use_probas = True, \n",
    "                               use_features_in_secondary = True)"
   ]
  },
  {
   "cell_type": "code",
   "execution_count": 26,
   "id": "09b70085",
   "metadata": {},
   "outputs": [
    {
     "name": "stderr",
     "output_type": "stream",
     "text": [
      "C:\\Users\\sandunic\\Anaconda3\\lib\\site-packages\\sklearn\\neighbors\\_classification.py:198: DataConversionWarning: A column-vector y was passed when a 1d array was expected. Please change the shape of y to (n_samples,), for example using ravel().\n",
      "  return self._fit(X, y)\n",
      "C:\\Users\\sandunic\\Anaconda3\\lib\\site-packages\\sklearn\\utils\\validation.py:993: DataConversionWarning: A column-vector y was passed when a 1d array was expected. Please change the shape of y to (n_samples, ), for example using ravel().\n",
      "  y = column_or_1d(y, warn=True)\n",
      "C:\\Users\\sandunic\\Anaconda3\\lib\\site-packages\\sklearn\\utils\\validation.py:993: DataConversionWarning: A column-vector y was passed when a 1d array was expected. Please change the shape of y to (n_samples, ), for example using ravel().\n",
      "  y = column_or_1d(y, warn=True)\n"
     ]
    },
    {
     "name": "stdout",
     "output_type": "stream",
     "text": [
      "accuracy score of Stacked model: 74.33600988264361\n"
     ]
    }
   ],
   "source": [
    "model_stack = clf_stack.fit(X_train, y_train)   # training of stacked model\n",
    "pred_stack = model_stack.predict(X_test)       # predictions on test data using stacked model\n",
    "\n",
    "accuracy_stack = accuracy_score(y_test, pred_stack)  # evaluating accuracy\n",
    "print('accuracy score of Stacked model:', accuracy_stack * 100)"
   ]
  },
  {
   "cell_type": "code",
   "execution_count": 27,
   "id": "db2785a7",
   "metadata": {},
   "outputs": [],
   "source": [
    "import pickle\n",
    "# pickle.dump(rf, open('randomForest.pkl', 'wb'))\n",
    "data = {\"model\": model_stack, \"le_age\": le_age, \"le_device\":le_device, \"le_language\":le_language, \"le_conAge\":le_conAge, \"le_package\":le_package}\n",
    "with open('stack.pkl', 'wb') as file:\n",
    "    pickle.dump(data, file)"
   ]
  }
 ],
 "metadata": {
  "kernelspec": {
   "display_name": "Python 3 (ipykernel)",
   "language": "python",
   "name": "python3"
  },
  "language_info": {
   "codemirror_mode": {
    "name": "ipython",
    "version": 3
   },
   "file_extension": ".py",
   "mimetype": "text/x-python",
   "name": "python",
   "nbconvert_exporter": "python",
   "pygments_lexer": "ipython3",
   "version": "3.9.12"
  }
 },
 "nbformat": 4,
 "nbformat_minor": 5
}
