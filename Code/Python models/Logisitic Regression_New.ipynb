{
 "cells": [
  {
   "cell_type": "code",
   "execution_count": 1,
   "id": "0c6a2e43",
   "metadata": {},
   "outputs": [],
   "source": [
    "import pandas as pd\n",
    "import numpy as np\n",
    "\n",
    "\n",
    "from sklearn.model_selection import train_test_split\n",
    "from sklearn.linear_model import LogisticRegression\n",
    "from sklearn.metrics import accuracy_score\n",
    "\n",
    "dataset = pd.read_csv('msc_data_cleaned_new1.csv')"
   ]
  },
  {
   "cell_type": "code",
   "execution_count": 2,
   "id": "79b67b40",
   "metadata": {},
   "outputs": [],
   "source": [
    "def clean_age(x):\n",
    "    if '51-60' in x or '60+' in x:\n",
    "        return '51-60'\n",
    "    if '41-45' in x or '46-50' in x:\n",
    "        return '41-50'\n",
    "    if '31-35' in x or '36-40' in x:\n",
    "        return '31-40'\n",
    "    if '21-25' in x or '26-30' in x:\n",
    "        return '21-30'\n",
    "    return 'Under 20'\n",
    "\n",
    "dataset['age_cat'] = dataset['age_cat'].apply(clean_age)"
   ]
  },
  {
   "cell_type": "code",
   "execution_count": 3,
   "id": "c5e515f4",
   "metadata": {},
   "outputs": [],
   "source": [
    "dataset = dataset.dropna(subset=['device_type'])"
   ]
  },
  {
   "cell_type": "code",
   "execution_count": 4,
   "id": "5e4c96ab",
   "metadata": {},
   "outputs": [],
   "source": [
    "def clean_deviceType(x):\n",
    "    if 'BASIC' in x:\n",
    "        return 'BASIC'\n",
    "    if 'SMART' in x:\n",
    "        return 'SMART'\n",
    "    if 'FEATURE' in x:\n",
    "        return 'FEATURE'\n",
    "\n",
    "dataset['device_type'] = dataset['device_type'].apply(clean_deviceType)"
   ]
  },
  {
   "cell_type": "code",
   "execution_count": 5,
   "id": "c2d4f385",
   "metadata": {},
   "outputs": [],
   "source": [
    "sin= 2078.0\n",
    "eng = 2002.0\n",
    "# tam = 2079.0\n",
    "def clean_language(x):\n",
    "    if sin in [x]:\n",
    "        return 'Sinhala'\n",
    "    if eng in [x]:\n",
    "        return 'English'\n",
    "    return 'Tamil'\n",
    "\n",
    "dataset['language_id'] = dataset['language_id'].apply(clean_language)"
   ]
  },
  {
   "cell_type": "code",
   "execution_count": 6,
   "id": "ed242dc0",
   "metadata": {},
   "outputs": [],
   "source": [
    "def clean_connectionAge(x):\n",
    "    if 'more than 5 years' in x:\n",
    "        return 'more than 5 years'\n",
    "    if '3-5 years' in x:\n",
    "        return '3-5 years'\n",
    "    if '2-3 years' in x or '1-2 years' in x:\n",
    "        return '1-3 years'\n",
    "    return 'less than 1'\n",
    "\n",
    "dataset['con_age'] = dataset['con_age'].apply(clean_connectionAge)"
   ]
  },
  {
   "cell_type": "code",
   "execution_count": 7,
   "id": "d663fa20",
   "metadata": {},
   "outputs": [],
   "source": [
    "from sklearn.preprocessing import LabelEncoder\n",
    "# labelEncoder = LabelEncoder()\n",
    "dataTransform = dataset.copy()"
   ]
  },
  {
   "cell_type": "code",
   "execution_count": 8,
   "id": "7fdff818",
   "metadata": {},
   "outputs": [
    {
     "data": {
      "text/plain": [
       "array([2, 1, 0])"
      ]
     },
     "execution_count": 8,
     "metadata": {},
     "output_type": "execute_result"
    }
   ],
   "source": [
    "le_language = LabelEncoder()\n",
    "dataTransform['language_id'] = le_language.fit_transform(dataset['language_id'])\n",
    "le_age = LabelEncoder()\n",
    "dataTransform['age_cat'] = le_age.fit_transform(dataset['age_cat'])\n",
    "le_conAge = LabelEncoder()\n",
    "dataTransform['con_age'] = le_conAge.fit_transform(dataset['con_age'])\n",
    "le_device = LabelEncoder()\n",
    "dataTransform['device_type'] = le_device.fit_transform(dataset['device_type'])\n",
    "le_package = LabelEncoder()\n",
    "dataTransform['package'] = le_package.fit_transform(dataset['package'])\n",
    "dataTransform[\"package\"].unique()"
   ]
  },
  {
   "cell_type": "code",
   "execution_count": 9,
   "id": "4ca2259d",
   "metadata": {},
   "outputs": [
    {
     "data": {
      "text/plain": [
       "(21781, 10)"
      ]
     },
     "execution_count": 9,
     "metadata": {},
     "output_type": "execute_result"
    }
   ],
   "source": [
    "dataTransform.shape"
   ]
  },
  {
   "cell_type": "code",
   "execution_count": 10,
   "id": "97f60969",
   "metadata": {},
   "outputs": [
    {
     "data": {
      "text/html": [
       "<div>\n",
       "<style scoped>\n",
       "    .dataframe tbody tr th:only-of-type {\n",
       "        vertical-align: middle;\n",
       "    }\n",
       "\n",
       "    .dataframe tbody tr th {\n",
       "        vertical-align: top;\n",
       "    }\n",
       "\n",
       "    .dataframe thead th {\n",
       "        text-align: right;\n",
       "    }\n",
       "</style>\n",
       "<table border=\"1\" class=\"dataframe\">\n",
       "  <thead>\n",
       "    <tr style=\"text-align: right;\">\n",
       "      <th></th>\n",
       "      <th>gender</th>\n",
       "      <th>age_cat</th>\n",
       "      <th>con_age</th>\n",
       "      <th>language_id</th>\n",
       "      <th>total_voice_usage_min</th>\n",
       "      <th>total_data_usage_mb</th>\n",
       "      <th>device_type</th>\n",
       "      <th>total_revenue</th>\n",
       "      <th>vas_revenue</th>\n",
       "    </tr>\n",
       "  </thead>\n",
       "  <tbody>\n",
       "    <tr>\n",
       "      <th>0</th>\n",
       "      <td>0.0</td>\n",
       "      <td>0.75</td>\n",
       "      <td>0.666667</td>\n",
       "      <td>0.0</td>\n",
       "      <td>0.008460</td>\n",
       "      <td>0.098454</td>\n",
       "      <td>1.0</td>\n",
       "      <td>0.019094</td>\n",
       "      <td>0.003322</td>\n",
       "    </tr>\n",
       "    <tr>\n",
       "      <th>2</th>\n",
       "      <td>0.0</td>\n",
       "      <td>0.25</td>\n",
       "      <td>0.000000</td>\n",
       "      <td>0.5</td>\n",
       "      <td>0.015958</td>\n",
       "      <td>0.059166</td>\n",
       "      <td>1.0</td>\n",
       "      <td>0.019646</td>\n",
       "      <td>0.002089</td>\n",
       "    </tr>\n",
       "    <tr>\n",
       "      <th>3</th>\n",
       "      <td>1.0</td>\n",
       "      <td>0.50</td>\n",
       "      <td>0.666667</td>\n",
       "      <td>0.0</td>\n",
       "      <td>0.014263</td>\n",
       "      <td>0.000002</td>\n",
       "      <td>1.0</td>\n",
       "      <td>0.003819</td>\n",
       "      <td>0.002250</td>\n",
       "    </tr>\n",
       "    <tr>\n",
       "      <th>4</th>\n",
       "      <td>1.0</td>\n",
       "      <td>0.50</td>\n",
       "      <td>0.000000</td>\n",
       "      <td>0.0</td>\n",
       "      <td>0.001694</td>\n",
       "      <td>0.165021</td>\n",
       "      <td>1.0</td>\n",
       "      <td>0.026097</td>\n",
       "      <td>0.002780</td>\n",
       "    </tr>\n",
       "    <tr>\n",
       "      <th>6</th>\n",
       "      <td>0.0</td>\n",
       "      <td>0.75</td>\n",
       "      <td>0.666667</td>\n",
       "      <td>0.0</td>\n",
       "      <td>0.091588</td>\n",
       "      <td>0.000000</td>\n",
       "      <td>0.5</td>\n",
       "      <td>0.017776</td>\n",
       "      <td>0.001853</td>\n",
       "    </tr>\n",
       "  </tbody>\n",
       "</table>\n",
       "</div>"
      ],
      "text/plain": [
       "   gender  age_cat   con_age  language_id  total_voice_usage_min  \\\n",
       "0     0.0     0.75  0.666667          0.0               0.008460   \n",
       "2     0.0     0.25  0.000000          0.5               0.015958   \n",
       "3     1.0     0.50  0.666667          0.0               0.014263   \n",
       "4     1.0     0.50  0.000000          0.0               0.001694   \n",
       "6     0.0     0.75  0.666667          0.0               0.091588   \n",
       "\n",
       "   total_data_usage_mb  device_type  total_revenue  vas_revenue  \n",
       "0             0.098454          1.0       0.019094     0.003322  \n",
       "2             0.059166          1.0       0.019646     0.002089  \n",
       "3             0.000002          1.0       0.003819     0.002250  \n",
       "4             0.165021          1.0       0.026097     0.002780  \n",
       "6             0.000000          0.5       0.017776     0.001853  "
      ]
     },
     "execution_count": 10,
     "metadata": {},
     "output_type": "execute_result"
    }
   ],
   "source": [
    "dtf = dataTransform['package']\n",
    "# Min-Max Normalization\n",
    "df = dataTransform.drop('package', axis=1)\n",
    "df_norm = (df-df.min())/(df.max()-df.min())\n",
    "df_norm.head()"
   ]
  },
  {
   "cell_type": "code",
   "execution_count": 11,
   "id": "289134c0",
   "metadata": {},
   "outputs": [],
   "source": [
    "def outliers(df,feature):\n",
    "    Q1 = df[feature].quantile(0.05)\n",
    "    Q3 = df[feature].quantile(0.95)\n",
    "    IQR = Q3 - Q1\n",
    "    \n",
    "    lowerBound = Q1 - 1.5*IQR\n",
    "    uperBound  = Q3 + 1.5*IQR\n",
    "    \n",
    "    ls = df.index[(df[feature]<lowerBound) | (df[feature]>uperBound)]\n",
    "    return ls"
   ]
  },
  {
   "cell_type": "code",
   "execution_count": 12,
   "id": "de0bdce9",
   "metadata": {},
   "outputs": [],
   "source": [
    "index_list = []\n",
    "for f in ['total_voice_usage_min','total_data_usage_mb','total_revenue']:\n",
    "    index_list.extend(outliers(df_norm,f))"
   ]
  },
  {
   "cell_type": "code",
   "execution_count": 13,
   "id": "998d50c4",
   "metadata": {},
   "outputs": [],
   "source": [
    "def remove(df,ls):\n",
    "    ls = sorted(set(ls))\n",
    "    df =df.drop(ls)\n",
    "    return df"
   ]
  },
  {
   "cell_type": "code",
   "execution_count": 14,
   "id": "bd30706a",
   "metadata": {},
   "outputs": [],
   "source": [
    "cleand_df = remove(df_norm,index_list)"
   ]
  },
  {
   "cell_type": "code",
   "execution_count": 15,
   "id": "d3072dea",
   "metadata": {},
   "outputs": [
    {
     "data": {
      "text/plain": [
       "(21584, 9)"
      ]
     },
     "execution_count": 15,
     "metadata": {},
     "output_type": "execute_result"
    }
   ],
   "source": [
    "cleand_df.shape"
   ]
  },
  {
   "cell_type": "code",
   "execution_count": 16,
   "id": "2265cbd8",
   "metadata": {},
   "outputs": [
    {
     "data": {
      "text/html": [
       "<div>\n",
       "<style scoped>\n",
       "    .dataframe tbody tr th:only-of-type {\n",
       "        vertical-align: middle;\n",
       "    }\n",
       "\n",
       "    .dataframe tbody tr th {\n",
       "        vertical-align: top;\n",
       "    }\n",
       "\n",
       "    .dataframe thead th {\n",
       "        text-align: right;\n",
       "    }\n",
       "</style>\n",
       "<table border=\"1\" class=\"dataframe\">\n",
       "  <thead>\n",
       "    <tr style=\"text-align: right;\">\n",
       "      <th></th>\n",
       "      <th>gender</th>\n",
       "      <th>age_cat</th>\n",
       "      <th>con_age</th>\n",
       "      <th>language_id</th>\n",
       "      <th>total_voice_usage_min</th>\n",
       "      <th>total_data_usage_mb</th>\n",
       "      <th>device_type</th>\n",
       "      <th>total_revenue</th>\n",
       "      <th>vas_revenue</th>\n",
       "      <th>package</th>\n",
       "    </tr>\n",
       "  </thead>\n",
       "  <tbody>\n",
       "    <tr>\n",
       "      <th>0</th>\n",
       "      <td>0.0</td>\n",
       "      <td>0.75</td>\n",
       "      <td>0.666667</td>\n",
       "      <td>0.0</td>\n",
       "      <td>0.008460</td>\n",
       "      <td>9.845378e-02</td>\n",
       "      <td>1.0</td>\n",
       "      <td>0.019094</td>\n",
       "      <td>0.003322</td>\n",
       "      <td>2</td>\n",
       "    </tr>\n",
       "    <tr>\n",
       "      <th>2</th>\n",
       "      <td>0.0</td>\n",
       "      <td>0.25</td>\n",
       "      <td>0.000000</td>\n",
       "      <td>0.5</td>\n",
       "      <td>0.015958</td>\n",
       "      <td>5.916630e-02</td>\n",
       "      <td>1.0</td>\n",
       "      <td>0.019646</td>\n",
       "      <td>0.002089</td>\n",
       "      <td>1</td>\n",
       "    </tr>\n",
       "    <tr>\n",
       "      <th>3</th>\n",
       "      <td>1.0</td>\n",
       "      <td>0.50</td>\n",
       "      <td>0.666667</td>\n",
       "      <td>0.0</td>\n",
       "      <td>0.014263</td>\n",
       "      <td>1.697807e-06</td>\n",
       "      <td>1.0</td>\n",
       "      <td>0.003819</td>\n",
       "      <td>0.002250</td>\n",
       "      <td>2</td>\n",
       "    </tr>\n",
       "    <tr>\n",
       "      <th>4</th>\n",
       "      <td>1.0</td>\n",
       "      <td>0.50</td>\n",
       "      <td>0.000000</td>\n",
       "      <td>0.0</td>\n",
       "      <td>0.001694</td>\n",
       "      <td>1.650209e-01</td>\n",
       "      <td>1.0</td>\n",
       "      <td>0.026097</td>\n",
       "      <td>0.002780</td>\n",
       "      <td>1</td>\n",
       "    </tr>\n",
       "    <tr>\n",
       "      <th>6</th>\n",
       "      <td>0.0</td>\n",
       "      <td>0.75</td>\n",
       "      <td>0.666667</td>\n",
       "      <td>0.0</td>\n",
       "      <td>0.091588</td>\n",
       "      <td>0.000000e+00</td>\n",
       "      <td>0.5</td>\n",
       "      <td>0.017776</td>\n",
       "      <td>0.001853</td>\n",
       "      <td>1</td>\n",
       "    </tr>\n",
       "    <tr>\n",
       "      <th>...</th>\n",
       "      <td>...</td>\n",
       "      <td>...</td>\n",
       "      <td>...</td>\n",
       "      <td>...</td>\n",
       "      <td>...</td>\n",
       "      <td>...</td>\n",
       "      <td>...</td>\n",
       "      <td>...</td>\n",
       "      <td>...</td>\n",
       "      <td>...</td>\n",
       "    </tr>\n",
       "    <tr>\n",
       "      <th>26274</th>\n",
       "      <td>0.0</td>\n",
       "      <td>0.75</td>\n",
       "      <td>1.000000</td>\n",
       "      <td>0.0</td>\n",
       "      <td>0.035557</td>\n",
       "      <td>2.091892e-02</td>\n",
       "      <td>1.0</td>\n",
       "      <td>0.014661</td>\n",
       "      <td>0.002627</td>\n",
       "      <td>0</td>\n",
       "    </tr>\n",
       "    <tr>\n",
       "      <th>26276</th>\n",
       "      <td>1.0</td>\n",
       "      <td>0.75</td>\n",
       "      <td>1.000000</td>\n",
       "      <td>0.5</td>\n",
       "      <td>0.024807</td>\n",
       "      <td>0.000000e+00</td>\n",
       "      <td>0.5</td>\n",
       "      <td>0.005106</td>\n",
       "      <td>0.002307</td>\n",
       "      <td>1</td>\n",
       "    </tr>\n",
       "    <tr>\n",
       "      <th>26277</th>\n",
       "      <td>1.0</td>\n",
       "      <td>0.75</td>\n",
       "      <td>1.000000</td>\n",
       "      <td>0.5</td>\n",
       "      <td>0.068350</td>\n",
       "      <td>0.000000e+00</td>\n",
       "      <td>0.0</td>\n",
       "      <td>0.012717</td>\n",
       "      <td>0.001670</td>\n",
       "      <td>1</td>\n",
       "    </tr>\n",
       "    <tr>\n",
       "      <th>26278</th>\n",
       "      <td>0.0</td>\n",
       "      <td>0.75</td>\n",
       "      <td>0.333333</td>\n",
       "      <td>0.0</td>\n",
       "      <td>0.052699</td>\n",
       "      <td>3.995747e-03</td>\n",
       "      <td>1.0</td>\n",
       "      <td>0.009455</td>\n",
       "      <td>0.002639</td>\n",
       "      <td>1</td>\n",
       "    </tr>\n",
       "    <tr>\n",
       "      <th>26279</th>\n",
       "      <td>0.0</td>\n",
       "      <td>0.00</td>\n",
       "      <td>0.000000</td>\n",
       "      <td>0.0</td>\n",
       "      <td>0.042663</td>\n",
       "      <td>8.893273e-07</td>\n",
       "      <td>0.5</td>\n",
       "      <td>0.005206</td>\n",
       "      <td>0.000890</td>\n",
       "      <td>1</td>\n",
       "    </tr>\n",
       "  </tbody>\n",
       "</table>\n",
       "<p>21584 rows × 10 columns</p>\n",
       "</div>"
      ],
      "text/plain": [
       "       gender  age_cat   con_age  language_id  total_voice_usage_min  \\\n",
       "0         0.0     0.75  0.666667          0.0               0.008460   \n",
       "2         0.0     0.25  0.000000          0.5               0.015958   \n",
       "3         1.0     0.50  0.666667          0.0               0.014263   \n",
       "4         1.0     0.50  0.000000          0.0               0.001694   \n",
       "6         0.0     0.75  0.666667          0.0               0.091588   \n",
       "...       ...      ...       ...          ...                    ...   \n",
       "26274     0.0     0.75  1.000000          0.0               0.035557   \n",
       "26276     1.0     0.75  1.000000          0.5               0.024807   \n",
       "26277     1.0     0.75  1.000000          0.5               0.068350   \n",
       "26278     0.0     0.75  0.333333          0.0               0.052699   \n",
       "26279     0.0     0.00  0.000000          0.0               0.042663   \n",
       "\n",
       "       total_data_usage_mb  device_type  total_revenue  vas_revenue  package  \n",
       "0             9.845378e-02          1.0       0.019094     0.003322        2  \n",
       "2             5.916630e-02          1.0       0.019646     0.002089        1  \n",
       "3             1.697807e-06          1.0       0.003819     0.002250        2  \n",
       "4             1.650209e-01          1.0       0.026097     0.002780        1  \n",
       "6             0.000000e+00          0.5       0.017776     0.001853        1  \n",
       "...                    ...          ...            ...          ...      ...  \n",
       "26274         2.091892e-02          1.0       0.014661     0.002627        0  \n",
       "26276         0.000000e+00          0.5       0.005106     0.002307        1  \n",
       "26277         0.000000e+00          0.0       0.012717     0.001670        1  \n",
       "26278         3.995747e-03          1.0       0.009455     0.002639        1  \n",
       "26279         8.893273e-07          0.5       0.005206     0.000890        1  \n",
       "\n",
       "[21584 rows x 10 columns]"
      ]
     },
     "metadata": {},
     "output_type": "display_data"
    }
   ],
   "source": [
    "result = pd.concat([cleand_df, dtf], axis=1, join='inner')\n",
    "display(result)"
   ]
  },
  {
   "cell_type": "code",
   "execution_count": 17,
   "id": "8dcb0fc8",
   "metadata": {},
   "outputs": [],
   "source": [
    "y = np.array(result.iloc[:,9])\n",
    "X = np.array(result.iloc[:,0:9])\n",
    "\n",
    "from sklearn.model_selection import train_test_split\n",
    "X_train, X_test, y_train, y_test = train_test_split(X, y, test_size = 0.3)"
   ]
  },
  {
   "cell_type": "code",
   "execution_count": 18,
   "id": "7ef434b5",
   "metadata": {},
   "outputs": [],
   "source": [
    "from imblearn.over_sampling import SMOTE\n",
    "smote=SMOTE()\n",
    "X, y=smote.fit_resample(X_train, y_train)"
   ]
  },
  {
   "cell_type": "code",
   "execution_count": 19,
   "id": "ba1eb7c4",
   "metadata": {},
   "outputs": [
    {
     "name": "stderr",
     "output_type": "stream",
     "text": [
      "C:\\Users\\sandunic\\Anaconda3\\lib\\site-packages\\sklearn\\linear_model\\_logistic.py:814: ConvergenceWarning: lbfgs failed to converge (status=1):\n",
      "STOP: TOTAL NO. of ITERATIONS REACHED LIMIT.\n",
      "\n",
      "Increase the number of iterations (max_iter) or scale the data as shown in:\n",
      "    https://scikit-learn.org/stable/modules/preprocessing.html\n",
      "Please also refer to the documentation for alternative solver options:\n",
      "    https://scikit-learn.org/stable/modules/linear_model.html#logistic-regression\n",
      "  n_iter_i = _check_optimize_result(\n"
     ]
    }
   ],
   "source": [
    "clf = LogisticRegression()\n",
    "\n",
    "logisticRegression = clf.fit(X_train,y_train)\n",
    "\n",
    "y_pred=clf.predict(X_test)\n",
    "\n"
   ]
  },
  {
   "cell_type": "code",
   "execution_count": 20,
   "id": "e1ab4ddf",
   "metadata": {},
   "outputs": [
    {
     "name": "stdout",
     "output_type": "stream",
     "text": [
      "Accuracy: 0.762816553428042\n"
     ]
    }
   ],
   "source": [
    "from sklearn import metrics\n",
    "\n",
    "print(\"Accuracy:\",metrics.accuracy_score(y_test, y_pred))"
   ]
  },
  {
   "cell_type": "code",
   "execution_count": 21,
   "id": "b033269e",
   "metadata": {},
   "outputs": [],
   "source": [
    "import pickle\n",
    "# pickle.dump(rf, open('randomForest.pkl', 'wb'))\n",
    "data = {\"model\": clf, \"le_age\": le_age, \"le_device\":le_device, \"le_language\":le_language, \"le_conAge\":le_conAge, \"le_package\":le_package}\n",
    "with open('logisticRegression.pkl', 'wb') as file:\n",
    "    pickle.dump(data, file)"
   ]
  }
 ],
 "metadata": {
  "kernelspec": {
   "display_name": "Python 3 (ipykernel)",
   "language": "python",
   "name": "python3"
  },
  "language_info": {
   "codemirror_mode": {
    "name": "ipython",
    "version": 3
   },
   "file_extension": ".py",
   "mimetype": "text/x-python",
   "name": "python",
   "nbconvert_exporter": "python",
   "pygments_lexer": "ipython3",
   "version": "3.9.12"
  }
 },
 "nbformat": 4,
 "nbformat_minor": 5
}
