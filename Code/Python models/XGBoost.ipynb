{
 "cells": [
  {
   "cell_type": "code",
   "execution_count": 1,
   "id": "1d0b4b66",
   "metadata": {},
   "outputs": [],
   "source": [
    "import pandas as pd\n",
    "from mlxtend.classifier import StackingClassifier\n",
    "from sklearn.model_selection import train_test_split\n",
    "from sklearn.tree import DecisionTreeClassifier\n",
    "from sklearn.linear_model import LogisticRegression\n",
    "from sklearn.neighbors import KNeighborsClassifier\n",
    "from sklearn.naive_bayes import GaussianNB\n",
    "from sklearn.metrics import confusion_matrix\n",
    "from sklearn.metrics import accuracy_score"
   ]
  },
  {
   "cell_type": "code",
   "execution_count": 2,
   "id": "66c38d35",
   "metadata": {},
   "outputs": [],
   "source": [
    "import numpy as np"
   ]
  },
  {
   "cell_type": "code",
   "execution_count": 3,
   "id": "37aefc2a",
   "metadata": {},
   "outputs": [],
   "source": [
    "dataset = pd.read_csv('msc_data_cleaned_new1.csv')"
   ]
  },
  {
   "cell_type": "code",
   "execution_count": 4,
   "id": "088ccfc9",
   "metadata": {},
   "outputs": [],
   "source": [
    "def clean_age(x):\n",
    "    if '51-60' in x or '60+' in x:\n",
    "        return '51-60'\n",
    "    if '41-45' in x or '46-50' in x:\n",
    "        return '41-50'\n",
    "    if '31-35' in x or '36-40' in x:\n",
    "        return '31-40'\n",
    "    if '21-25' in x or '26-30' in x:\n",
    "        return '21-30'\n",
    "    return 'Under 20'\n",
    "\n",
    "dataset['age_cat'] = dataset['age_cat'].apply(clean_age)"
   ]
  },
  {
   "cell_type": "code",
   "execution_count": 5,
   "id": "bf2c67d9",
   "metadata": {},
   "outputs": [],
   "source": [
    "dataset = dataset.dropna(subset=['device_type'])"
   ]
  },
  {
   "cell_type": "code",
   "execution_count": 6,
   "id": "6fc705ba",
   "metadata": {},
   "outputs": [],
   "source": [
    "def clean_deviceType(x):\n",
    "    if 'BASIC' in x:\n",
    "        return 'BASIC'\n",
    "    if 'SMART' in x:\n",
    "        return 'SMART'\n",
    "    if 'FEATURE' in x:\n",
    "        return 'FEATURE'\n",
    "\n",
    "dataset['device_type'] = dataset['device_type'].apply(clean_deviceType)"
   ]
  },
  {
   "cell_type": "code",
   "execution_count": 7,
   "id": "8661f59e",
   "metadata": {},
   "outputs": [],
   "source": [
    "sin= 2078.0\n",
    "eng = 2002.0\n",
    "# tam = 2079.0\n",
    "def clean_language(x):\n",
    "    if sin in [x]:\n",
    "        return 'Sinhala'\n",
    "    if eng in [x]:\n",
    "        return 'English'\n",
    "    return 'Tamil'\n",
    "\n",
    "dataset['language_id'] = dataset['language_id'].apply(clean_language)"
   ]
  },
  {
   "cell_type": "code",
   "execution_count": 8,
   "id": "6a189598",
   "metadata": {},
   "outputs": [],
   "source": [
    "def clean_connectionAge(x):\n",
    "    if 'more than 5 years' in x:\n",
    "        return 'more than 5 years'\n",
    "    if '3-5 years' in x:\n",
    "        return '3-5 years'\n",
    "    if '2-3 years' in x or '1-2 years' in x:\n",
    "        return '1-3 years'\n",
    "    return 'less than 1'\n",
    "\n",
    "dataset['con_age'] = dataset['con_age'].apply(clean_connectionAge)"
   ]
  },
  {
   "cell_type": "code",
   "execution_count": 9,
   "id": "1194c4c5",
   "metadata": {},
   "outputs": [],
   "source": [
    "from sklearn.preprocessing import LabelEncoder\n",
    "# labelEncoder = LabelEncoder()\n",
    "dataTransform = dataset.copy()"
   ]
  },
  {
   "cell_type": "code",
   "execution_count": 10,
   "id": "81aeafa3",
   "metadata": {},
   "outputs": [
    {
     "data": {
      "text/plain": [
       "array([2, 1, 0])"
      ]
     },
     "execution_count": 10,
     "metadata": {},
     "output_type": "execute_result"
    }
   ],
   "source": [
    "le_language = LabelEncoder()\n",
    "dataTransform['language_id'] = le_language.fit_transform(dataset['language_id'])\n",
    "le_age = LabelEncoder()\n",
    "dataTransform['age_cat'] = le_age.fit_transform(dataset['age_cat'])\n",
    "le_conAge = LabelEncoder()\n",
    "dataTransform['con_age'] = le_conAge.fit_transform(dataset['con_age'])\n",
    "le_device = LabelEncoder()\n",
    "dataTransform['device_type'] = le_device.fit_transform(dataset['device_type'])\n",
    "le_package = LabelEncoder()\n",
    "dataTransform['package'] = le_package.fit_transform(dataset['package'])\n",
    "dataTransform[\"package\"].unique()"
   ]
  },
  {
   "cell_type": "code",
   "execution_count": 11,
   "id": "67c580f8",
   "metadata": {},
   "outputs": [
    {
     "data": {
      "text/plain": [
       "(21781, 10)"
      ]
     },
     "execution_count": 11,
     "metadata": {},
     "output_type": "execute_result"
    }
   ],
   "source": [
    "dataTransform.shape"
   ]
  },
  {
   "cell_type": "code",
   "execution_count": 12,
   "id": "de765757",
   "metadata": {},
   "outputs": [
    {
     "data": {
      "text/html": [
       "<div>\n",
       "<style scoped>\n",
       "    .dataframe tbody tr th:only-of-type {\n",
       "        vertical-align: middle;\n",
       "    }\n",
       "\n",
       "    .dataframe tbody tr th {\n",
       "        vertical-align: top;\n",
       "    }\n",
       "\n",
       "    .dataframe thead th {\n",
       "        text-align: right;\n",
       "    }\n",
       "</style>\n",
       "<table border=\"1\" class=\"dataframe\">\n",
       "  <thead>\n",
       "    <tr style=\"text-align: right;\">\n",
       "      <th></th>\n",
       "      <th>gender</th>\n",
       "      <th>age_cat</th>\n",
       "      <th>con_age</th>\n",
       "      <th>language_id</th>\n",
       "      <th>total_voice_usage_min</th>\n",
       "      <th>total_data_usage_mb</th>\n",
       "      <th>device_type</th>\n",
       "      <th>total_revenue</th>\n",
       "      <th>vas_revenue</th>\n",
       "    </tr>\n",
       "  </thead>\n",
       "  <tbody>\n",
       "    <tr>\n",
       "      <th>0</th>\n",
       "      <td>0.0</td>\n",
       "      <td>0.75</td>\n",
       "      <td>0.666667</td>\n",
       "      <td>0.0</td>\n",
       "      <td>0.008460</td>\n",
       "      <td>0.098454</td>\n",
       "      <td>1.0</td>\n",
       "      <td>0.019094</td>\n",
       "      <td>0.003322</td>\n",
       "    </tr>\n",
       "    <tr>\n",
       "      <th>2</th>\n",
       "      <td>0.0</td>\n",
       "      <td>0.25</td>\n",
       "      <td>0.000000</td>\n",
       "      <td>0.5</td>\n",
       "      <td>0.015958</td>\n",
       "      <td>0.059166</td>\n",
       "      <td>1.0</td>\n",
       "      <td>0.019646</td>\n",
       "      <td>0.002089</td>\n",
       "    </tr>\n",
       "    <tr>\n",
       "      <th>3</th>\n",
       "      <td>1.0</td>\n",
       "      <td>0.50</td>\n",
       "      <td>0.666667</td>\n",
       "      <td>0.0</td>\n",
       "      <td>0.014263</td>\n",
       "      <td>0.000002</td>\n",
       "      <td>1.0</td>\n",
       "      <td>0.003819</td>\n",
       "      <td>0.002250</td>\n",
       "    </tr>\n",
       "    <tr>\n",
       "      <th>4</th>\n",
       "      <td>1.0</td>\n",
       "      <td>0.50</td>\n",
       "      <td>0.000000</td>\n",
       "      <td>0.0</td>\n",
       "      <td>0.001694</td>\n",
       "      <td>0.165021</td>\n",
       "      <td>1.0</td>\n",
       "      <td>0.026097</td>\n",
       "      <td>0.002780</td>\n",
       "    </tr>\n",
       "    <tr>\n",
       "      <th>6</th>\n",
       "      <td>0.0</td>\n",
       "      <td>0.75</td>\n",
       "      <td>0.666667</td>\n",
       "      <td>0.0</td>\n",
       "      <td>0.091588</td>\n",
       "      <td>0.000000</td>\n",
       "      <td>0.5</td>\n",
       "      <td>0.017776</td>\n",
       "      <td>0.001853</td>\n",
       "    </tr>\n",
       "  </tbody>\n",
       "</table>\n",
       "</div>"
      ],
      "text/plain": [
       "   gender  age_cat   con_age  language_id  total_voice_usage_min  \\\n",
       "0     0.0     0.75  0.666667          0.0               0.008460   \n",
       "2     0.0     0.25  0.000000          0.5               0.015958   \n",
       "3     1.0     0.50  0.666667          0.0               0.014263   \n",
       "4     1.0     0.50  0.000000          0.0               0.001694   \n",
       "6     0.0     0.75  0.666667          0.0               0.091588   \n",
       "\n",
       "   total_data_usage_mb  device_type  total_revenue  vas_revenue  \n",
       "0             0.098454          1.0       0.019094     0.003322  \n",
       "2             0.059166          1.0       0.019646     0.002089  \n",
       "3             0.000002          1.0       0.003819     0.002250  \n",
       "4             0.165021          1.0       0.026097     0.002780  \n",
       "6             0.000000          0.5       0.017776     0.001853  "
      ]
     },
     "execution_count": 12,
     "metadata": {},
     "output_type": "execute_result"
    }
   ],
   "source": [
    "dtf = dataTransform['package']\n",
    "# Min-Max Normalization\n",
    "df = dataTransform.drop('package', axis=1)\n",
    "df_norm = (df-df.min())/(df.max()-df.min())\n",
    "df_norm.head()"
   ]
  },
  {
   "cell_type": "code",
   "execution_count": 13,
   "id": "75e87bc3",
   "metadata": {},
   "outputs": [],
   "source": [
    "def outliers(df,feature):\n",
    "    Q1 = df[feature].quantile(0.05)\n",
    "    Q3 = df[feature].quantile(0.95)\n",
    "    IQR = Q3 - Q1\n",
    "    \n",
    "    lowerBound = Q1 - 1.5*IQR\n",
    "    uperBound  = Q3 + 1.5*IQR\n",
    "    \n",
    "    ls = df.index[(df[feature]<lowerBound) | (df[feature]>uperBound)]\n",
    "    return ls"
   ]
  },
  {
   "cell_type": "code",
   "execution_count": 14,
   "id": "ad85644c",
   "metadata": {},
   "outputs": [],
   "source": [
    "index_list = []\n",
    "for f in ['total_voice_usage_min','total_data_usage_mb','total_revenue']:\n",
    "    index_list.extend(outliers(df_norm,f))"
   ]
  },
  {
   "cell_type": "code",
   "execution_count": 15,
   "id": "f395d509",
   "metadata": {},
   "outputs": [],
   "source": [
    "def remove(df,ls):\n",
    "    ls = sorted(set(ls))\n",
    "    df =df.drop(ls)\n",
    "    return df"
   ]
  },
  {
   "cell_type": "code",
   "execution_count": 16,
   "id": "ac2ee886",
   "metadata": {},
   "outputs": [],
   "source": [
    "cleand_df = remove(df_norm,index_list)"
   ]
  },
  {
   "cell_type": "code",
   "execution_count": 17,
   "id": "77b0777f",
   "metadata": {},
   "outputs": [
    {
     "data": {
      "text/plain": [
       "(21584, 9)"
      ]
     },
     "execution_count": 17,
     "metadata": {},
     "output_type": "execute_result"
    }
   ],
   "source": [
    "cleand_df.shape"
   ]
  },
  {
   "cell_type": "code",
   "execution_count": 18,
   "id": "df4aa35e",
   "metadata": {},
   "outputs": [
    {
     "data": {
      "text/html": [
       "<div>\n",
       "<style scoped>\n",
       "    .dataframe tbody tr th:only-of-type {\n",
       "        vertical-align: middle;\n",
       "    }\n",
       "\n",
       "    .dataframe tbody tr th {\n",
       "        vertical-align: top;\n",
       "    }\n",
       "\n",
       "    .dataframe thead th {\n",
       "        text-align: right;\n",
       "    }\n",
       "</style>\n",
       "<table border=\"1\" class=\"dataframe\">\n",
       "  <thead>\n",
       "    <tr style=\"text-align: right;\">\n",
       "      <th></th>\n",
       "      <th>gender</th>\n",
       "      <th>age_cat</th>\n",
       "      <th>con_age</th>\n",
       "      <th>language_id</th>\n",
       "      <th>total_voice_usage_min</th>\n",
       "      <th>total_data_usage_mb</th>\n",
       "      <th>device_type</th>\n",
       "      <th>total_revenue</th>\n",
       "      <th>vas_revenue</th>\n",
       "      <th>package</th>\n",
       "    </tr>\n",
       "  </thead>\n",
       "  <tbody>\n",
       "    <tr>\n",
       "      <th>0</th>\n",
       "      <td>0.0</td>\n",
       "      <td>0.75</td>\n",
       "      <td>0.666667</td>\n",
       "      <td>0.0</td>\n",
       "      <td>0.008460</td>\n",
       "      <td>9.845378e-02</td>\n",
       "      <td>1.0</td>\n",
       "      <td>0.019094</td>\n",
       "      <td>0.003322</td>\n",
       "      <td>2</td>\n",
       "    </tr>\n",
       "    <tr>\n",
       "      <th>2</th>\n",
       "      <td>0.0</td>\n",
       "      <td>0.25</td>\n",
       "      <td>0.000000</td>\n",
       "      <td>0.5</td>\n",
       "      <td>0.015958</td>\n",
       "      <td>5.916630e-02</td>\n",
       "      <td>1.0</td>\n",
       "      <td>0.019646</td>\n",
       "      <td>0.002089</td>\n",
       "      <td>1</td>\n",
       "    </tr>\n",
       "    <tr>\n",
       "      <th>3</th>\n",
       "      <td>1.0</td>\n",
       "      <td>0.50</td>\n",
       "      <td>0.666667</td>\n",
       "      <td>0.0</td>\n",
       "      <td>0.014263</td>\n",
       "      <td>1.697807e-06</td>\n",
       "      <td>1.0</td>\n",
       "      <td>0.003819</td>\n",
       "      <td>0.002250</td>\n",
       "      <td>2</td>\n",
       "    </tr>\n",
       "    <tr>\n",
       "      <th>4</th>\n",
       "      <td>1.0</td>\n",
       "      <td>0.50</td>\n",
       "      <td>0.000000</td>\n",
       "      <td>0.0</td>\n",
       "      <td>0.001694</td>\n",
       "      <td>1.650209e-01</td>\n",
       "      <td>1.0</td>\n",
       "      <td>0.026097</td>\n",
       "      <td>0.002780</td>\n",
       "      <td>1</td>\n",
       "    </tr>\n",
       "    <tr>\n",
       "      <th>6</th>\n",
       "      <td>0.0</td>\n",
       "      <td>0.75</td>\n",
       "      <td>0.666667</td>\n",
       "      <td>0.0</td>\n",
       "      <td>0.091588</td>\n",
       "      <td>0.000000e+00</td>\n",
       "      <td>0.5</td>\n",
       "      <td>0.017776</td>\n",
       "      <td>0.001853</td>\n",
       "      <td>1</td>\n",
       "    </tr>\n",
       "    <tr>\n",
       "      <th>...</th>\n",
       "      <td>...</td>\n",
       "      <td>...</td>\n",
       "      <td>...</td>\n",
       "      <td>...</td>\n",
       "      <td>...</td>\n",
       "      <td>...</td>\n",
       "      <td>...</td>\n",
       "      <td>...</td>\n",
       "      <td>...</td>\n",
       "      <td>...</td>\n",
       "    </tr>\n",
       "    <tr>\n",
       "      <th>26274</th>\n",
       "      <td>0.0</td>\n",
       "      <td>0.75</td>\n",
       "      <td>1.000000</td>\n",
       "      <td>0.0</td>\n",
       "      <td>0.035557</td>\n",
       "      <td>2.091892e-02</td>\n",
       "      <td>1.0</td>\n",
       "      <td>0.014661</td>\n",
       "      <td>0.002627</td>\n",
       "      <td>0</td>\n",
       "    </tr>\n",
       "    <tr>\n",
       "      <th>26276</th>\n",
       "      <td>1.0</td>\n",
       "      <td>0.75</td>\n",
       "      <td>1.000000</td>\n",
       "      <td>0.5</td>\n",
       "      <td>0.024807</td>\n",
       "      <td>0.000000e+00</td>\n",
       "      <td>0.5</td>\n",
       "      <td>0.005106</td>\n",
       "      <td>0.002307</td>\n",
       "      <td>1</td>\n",
       "    </tr>\n",
       "    <tr>\n",
       "      <th>26277</th>\n",
       "      <td>1.0</td>\n",
       "      <td>0.75</td>\n",
       "      <td>1.000000</td>\n",
       "      <td>0.5</td>\n",
       "      <td>0.068350</td>\n",
       "      <td>0.000000e+00</td>\n",
       "      <td>0.0</td>\n",
       "      <td>0.012717</td>\n",
       "      <td>0.001670</td>\n",
       "      <td>1</td>\n",
       "    </tr>\n",
       "    <tr>\n",
       "      <th>26278</th>\n",
       "      <td>0.0</td>\n",
       "      <td>0.75</td>\n",
       "      <td>0.333333</td>\n",
       "      <td>0.0</td>\n",
       "      <td>0.052699</td>\n",
       "      <td>3.995747e-03</td>\n",
       "      <td>1.0</td>\n",
       "      <td>0.009455</td>\n",
       "      <td>0.002639</td>\n",
       "      <td>1</td>\n",
       "    </tr>\n",
       "    <tr>\n",
       "      <th>26279</th>\n",
       "      <td>0.0</td>\n",
       "      <td>0.00</td>\n",
       "      <td>0.000000</td>\n",
       "      <td>0.0</td>\n",
       "      <td>0.042663</td>\n",
       "      <td>8.893273e-07</td>\n",
       "      <td>0.5</td>\n",
       "      <td>0.005206</td>\n",
       "      <td>0.000890</td>\n",
       "      <td>1</td>\n",
       "    </tr>\n",
       "  </tbody>\n",
       "</table>\n",
       "<p>21584 rows × 10 columns</p>\n",
       "</div>"
      ],
      "text/plain": [
       "       gender  age_cat   con_age  language_id  total_voice_usage_min  \\\n",
       "0         0.0     0.75  0.666667          0.0               0.008460   \n",
       "2         0.0     0.25  0.000000          0.5               0.015958   \n",
       "3         1.0     0.50  0.666667          0.0               0.014263   \n",
       "4         1.0     0.50  0.000000          0.0               0.001694   \n",
       "6         0.0     0.75  0.666667          0.0               0.091588   \n",
       "...       ...      ...       ...          ...                    ...   \n",
       "26274     0.0     0.75  1.000000          0.0               0.035557   \n",
       "26276     1.0     0.75  1.000000          0.5               0.024807   \n",
       "26277     1.0     0.75  1.000000          0.5               0.068350   \n",
       "26278     0.0     0.75  0.333333          0.0               0.052699   \n",
       "26279     0.0     0.00  0.000000          0.0               0.042663   \n",
       "\n",
       "       total_data_usage_mb  device_type  total_revenue  vas_revenue  package  \n",
       "0             9.845378e-02          1.0       0.019094     0.003322        2  \n",
       "2             5.916630e-02          1.0       0.019646     0.002089        1  \n",
       "3             1.697807e-06          1.0       0.003819     0.002250        2  \n",
       "4             1.650209e-01          1.0       0.026097     0.002780        1  \n",
       "6             0.000000e+00          0.5       0.017776     0.001853        1  \n",
       "...                    ...          ...            ...          ...      ...  \n",
       "26274         2.091892e-02          1.0       0.014661     0.002627        0  \n",
       "26276         0.000000e+00          0.5       0.005106     0.002307        1  \n",
       "26277         0.000000e+00          0.0       0.012717     0.001670        1  \n",
       "26278         3.995747e-03          1.0       0.009455     0.002639        1  \n",
       "26279         8.893273e-07          0.5       0.005206     0.000890        1  \n",
       "\n",
       "[21584 rows x 10 columns]"
      ]
     },
     "metadata": {},
     "output_type": "display_data"
    }
   ],
   "source": [
    "result = pd.concat([cleand_df, dtf], axis=1, join='inner')\n",
    "display(result)"
   ]
  },
  {
   "cell_type": "code",
   "execution_count": 19,
   "id": "ce5e6c35",
   "metadata": {},
   "outputs": [],
   "source": [
    "y = np.array(result.iloc[:,9:])\n",
    "X = np.array(result.iloc[:,0:9])\n",
    "\n",
    "from sklearn.model_selection import train_test_split\n",
    "X_train, X_test, y_train, y_test = train_test_split(X, y, test_size = 0.3)"
   ]
  },
  {
   "cell_type": "code",
   "execution_count": 20,
   "id": "db9822be",
   "metadata": {},
   "outputs": [],
   "source": [
    "from imblearn.over_sampling import SMOTE\n",
    "smote=SMOTE()\n",
    "X, y=smote.fit_resample(X_train, y_train)"
   ]
  },
  {
   "cell_type": "code",
   "execution_count": 21,
   "id": "3ab689ec",
   "metadata": {},
   "outputs": [
    {
     "name": "stderr",
     "output_type": "stream",
     "text": [
      "C:\\Users\\sandunic\\Anaconda3\\lib\\site-packages\\xgboost\\compat.py:36: FutureWarning: pandas.Int64Index is deprecated and will be removed from pandas in a future version. Use pandas.Index with the appropriate dtype instead.\n",
      "  from pandas import MultiIndex, Int64Index\n"
     ]
    }
   ],
   "source": [
    "from xgboost import XGBClassifier"
   ]
  },
  {
   "cell_type": "code",
   "execution_count": 22,
   "id": "725ab7fb",
   "metadata": {},
   "outputs": [
    {
     "name": "stderr",
     "output_type": "stream",
     "text": [
      "C:\\Users\\sandunic\\Anaconda3\\lib\\site-packages\\xgboost\\sklearn.py:1224: UserWarning: The use of label encoder in XGBClassifier is deprecated and will be removed in a future release. To remove this warning, do the following: 1) Pass option use_label_encoder=False when constructing XGBClassifier object; and 2) Encode your labels (y) as integers starting with 0, i.e. 0, 1, 2, ..., [num_class - 1].\n",
      "  warnings.warn(label_encoder_deprecation_msg, UserWarning)\n",
      "C:\\Users\\sandunic\\Anaconda3\\lib\\site-packages\\sklearn\\preprocessing\\_label.py:98: DataConversionWarning: A column-vector y was passed when a 1d array was expected. Please change the shape of y to (n_samples, ), for example using ravel().\n",
      "  y = column_or_1d(y, warn=True)\n",
      "C:\\Users\\sandunic\\Anaconda3\\lib\\site-packages\\sklearn\\preprocessing\\_label.py:133: DataConversionWarning: A column-vector y was passed when a 1d array was expected. Please change the shape of y to (n_samples, ), for example using ravel().\n",
      "  y = column_or_1d(y, warn=True)\n"
     ]
    },
    {
     "name": "stdout",
     "output_type": "stream",
     "text": [
      "[06:23:34] WARNING: C:\\Windows\\Temp\\abs_557yfx631l\\croots\\recipe\\xgboost-split_1659548953302\\work\\src\\learner.cc:1115: Starting in XGBoost 1.3.0, the default evaluation metric used with the objective 'multi:softprob' was changed from 'merror' to 'mlogloss'. Explicitly set eval_metric if you'd like to restore the old behavior.\n"
     ]
    },
    {
     "data": {
      "text/plain": [
       "XGBClassifier(base_score=0.5, booster='gbtree', colsample_bylevel=1,\n",
       "              colsample_bynode=1, colsample_bytree=1, enable_categorical=False,\n",
       "              gamma=0, gpu_id=-1, importance_type=None,\n",
       "              interaction_constraints='', learning_rate=0.300000012,\n",
       "              max_delta_step=0, max_depth=6, min_child_weight=1, missing=nan,\n",
       "              monotone_constraints='()', n_estimators=100, n_jobs=16,\n",
       "              num_parallel_tree=1, objective='multi:softprob', predictor='auto',\n",
       "              random_state=0, reg_alpha=0, reg_lambda=1, scale_pos_weight=None,\n",
       "              subsample=1, tree_method='exact', validate_parameters=1,\n",
       "              verbosity=None)"
      ]
     },
     "execution_count": 22,
     "metadata": {},
     "output_type": "execute_result"
    }
   ],
   "source": [
    "xgb_clf = XGBClassifier()\n",
    "xgb_clf.fit(X_train, y_train)"
   ]
  },
  {
   "cell_type": "code",
   "execution_count": 23,
   "id": "c9264fc3",
   "metadata": {},
   "outputs": [
    {
     "name": "stdout",
     "output_type": "stream",
     "text": [
      "0.8289067325509574\n"
     ]
    }
   ],
   "source": [
    "score = xgb_clf.score(X_test, y_test)\n",
    "print(score)"
   ]
  },
  {
   "cell_type": "code",
   "execution_count": 24,
   "id": "5264bf2e",
   "metadata": {},
   "outputs": [],
   "source": [
    "# make predictions for test data\n",
    "y_pred = xgb_clf.predict(X_test)\n",
    "predictions = [round(value) for value in y_pred]"
   ]
  },
  {
   "cell_type": "code",
   "execution_count": 25,
   "id": "7cb8fa04",
   "metadata": {},
   "outputs": [
    {
     "name": "stdout",
     "output_type": "stream",
     "text": [
      "Accuracy: 82.89%\n"
     ]
    }
   ],
   "source": [
    "# evaluate predictions\n",
    "accuracy = accuracy_score(y_test, predictions)\n",
    "print(\"Accuracy: %.2f%%\" % (accuracy * 100.0))"
   ]
  },
  {
   "cell_type": "code",
   "execution_count": 26,
   "id": "b67c07fb",
   "metadata": {},
   "outputs": [],
   "source": [
    "import pickle\n",
    "# pickle.dump(rf, open('randomForest.pkl', 'wb'))\n",
    "data = {\"model\": xgb_clf, \"le_age\": le_age, \"le_device\":le_device, \"le_language\":le_language, \"le_conAge\":le_conAge, \"le_package\":le_package}\n",
    "with open('xgb_clf.pkl', 'wb') as file:\n",
    "    pickle.dump(data, file)"
   ]
  }
 ],
 "metadata": {
  "kernelspec": {
   "display_name": "Python 3 (ipykernel)",
   "language": "python",
   "name": "python3"
  },
  "language_info": {
   "codemirror_mode": {
    "name": "ipython",
    "version": 3
   },
   "file_extension": ".py",
   "mimetype": "text/x-python",
   "name": "python",
   "nbconvert_exporter": "python",
   "pygments_lexer": "ipython3",
   "version": "3.9.12"
  }
 },
 "nbformat": 4,
 "nbformat_minor": 5
}
